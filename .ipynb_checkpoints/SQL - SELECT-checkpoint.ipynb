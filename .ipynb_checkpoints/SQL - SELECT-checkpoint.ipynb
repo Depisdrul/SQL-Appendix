{
 "cells": [
  {
   "cell_type": "markdown",
   "metadata": {},
   "source": [
    "###  SQL SELECT Statement\n",
    "\n",
    "The SELECT statement is used to select data from a database. The result is then stored in a result table, sometimes called the result-set."
   ]
  },
  {
   "cell_type": "markdown",
   "metadata": {},
   "source": [
    "### Syntax for SQL SELECT\n",
    "\n",
    "SELECT column_name\n",
    "FROM table_name\n",
    "\n",
    "*We could also select multiple columns: *\n",
    "\n",
    "SELECT column_name1,column_name2 <br/>\n",
    "FROM table_name\n",
    "\n",
    "*Or we could select everything in a table using * *\n",
    "\n",
    "SELECT * FROM table_name\n"
   ]
  },
  {
   "cell_type": "code",
   "execution_count": null,
   "metadata": {
    "collapsed": true
   },
   "outputs": [],
   "source": [
    "# imports!\n",
    "import sqlite3\n",
    "import pandas as pd\n",
    "con = sqlite3.connect(\"sakila.db\")"
   ]
  }
 ],
 "metadata": {
  "kernelspec": {
   "display_name": "Python 2",
   "language": "python",
   "name": "python2"
  },
  "language_info": {
   "codemirror_mode": {
    "name": "ipython",
    "version": 2
   },
   "file_extension": ".py",
   "mimetype": "text/x-python",
   "name": "python",
   "nbconvert_exporter": "python",
   "pygments_lexer": "ipython2",
   "version": "2.7.7"
  }
 },
 "nbformat": 4,
 "nbformat_minor": 0
}
